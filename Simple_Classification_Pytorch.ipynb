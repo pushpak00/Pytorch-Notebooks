{
  "nbformat": 4,
  "nbformat_minor": 0,
  "metadata": {
    "kernelspec": {
      "display_name": "Python 3",
      "language": "python",
      "name": "python3"
    },
    "language_info": {
      "codemirror_mode": {
        "name": "ipython",
        "version": 3
      },
      "file_extension": ".py",
      "mimetype": "text/x-python",
      "name": "python",
      "nbconvert_exporter": "python",
      "pygments_lexer": "ipython3",
      "version": "3.8.3"
    },
    "colab": {
      "provenance": []
    },
    "accelerator": "GPU"
  },
  "cells": [
    {
      "cell_type": "code",
      "source": [
        "from google.colab import drive\n",
        "drive.mount('/content/drive')"
      ],
      "metadata": {
        "colab": {
          "base_uri": "https://localhost:8080/"
        },
        "id": "mi_sZkYo9Tg4",
        "outputId": "5c8bb3e3-6e12-4bad-9dab-3e1eddaf13c6"
      },
      "execution_count": 1,
      "outputs": [
        {
          "output_type": "stream",
          "name": "stdout",
          "text": [
            "Mounted at /content/drive\n"
          ]
        }
      ]
    },
    {
      "cell_type": "code",
      "metadata": {
        "id": "vkYFU7wXDtuO"
      },
      "source": [
        "import torch\n",
        "import pandas as pd\n",
        "import numpy as np\n",
        "import torch.nn as nn\n",
        "from sklearn.model_selection import train_test_split \n",
        "from sklearn.metrics import accuracy_score\n",
        "from sklearn.preprocessing import MinMaxScaler"
      ],
      "execution_count": 2,
      "outputs": []
    },
    {
      "cell_type": "code",
      "metadata": {
        "colab": {
          "base_uri": "https://localhost:8080/"
        },
        "id": "-HOD5TZwDtuT",
        "outputId": "e8a5cd10-6391-4a08-f60c-fb13cb07b6f6"
      },
      "source": [
        "#Set the random seed\n",
        "\n",
        "torch.manual_seed(2022)"
      ],
      "execution_count": 3,
      "outputs": [
        {
          "output_type": "execute_result",
          "data": {
            "text/plain": [
              "<torch._C.Generator at 0x7f8ad7c44cf0>"
            ]
          },
          "metadata": {},
          "execution_count": 3
        }
      ]
    },
    {
      "cell_type": "code",
      "metadata": {
        "colab": {
          "base_uri": "https://localhost:8080/",
          "height": 250
        },
        "id": "S2EmwO2sDtuV",
        "outputId": "8643d312-52a1-46de-fd48-670d57efc341"
      },
      "source": [
        "cancer = pd.read_csv(\"/content/drive/MyDrive/Cases/Wisconsin/BreastCancer.csv\")\n",
        "dum_cancer = pd.get_dummies(cancer,drop_first=True)\n",
        "dum_cancer.head()"
      ],
      "execution_count": 4,
      "outputs": [
        {
          "output_type": "execute_result",
          "data": {
            "text/plain": [
              "     Code  Clump  UniCell_Size  Uni_CellShape  MargAdh  SEpith  BareN  \\\n",
              "0   61634      5             4              3        1       2      2   \n",
              "1   63375      9             1              2        6       4     10   \n",
              "2   76389     10             4              7        2       2      8   \n",
              "3   95719      6            10             10       10       8     10   \n",
              "4  128059      1             1              1        1       2      5   \n",
              "\n",
              "   BChromatin  NoemN  Mitoses  Class_Malignant  \n",
              "0           2      3        1                0  \n",
              "1           7      7        2                1  \n",
              "2           6      1        1                1  \n",
              "3           7     10        7                1  \n",
              "4           5      1        1                0  "
            ],
            "text/html": [
              "\n",
              "  <div id=\"df-41c93e53-e22f-47a0-a374-d30e757d76dd\">\n",
              "    <div class=\"colab-df-container\">\n",
              "      <div>\n",
              "<style scoped>\n",
              "    .dataframe tbody tr th:only-of-type {\n",
              "        vertical-align: middle;\n",
              "    }\n",
              "\n",
              "    .dataframe tbody tr th {\n",
              "        vertical-align: top;\n",
              "    }\n",
              "\n",
              "    .dataframe thead th {\n",
              "        text-align: right;\n",
              "    }\n",
              "</style>\n",
              "<table border=\"1\" class=\"dataframe\">\n",
              "  <thead>\n",
              "    <tr style=\"text-align: right;\">\n",
              "      <th></th>\n",
              "      <th>Code</th>\n",
              "      <th>Clump</th>\n",
              "      <th>UniCell_Size</th>\n",
              "      <th>Uni_CellShape</th>\n",
              "      <th>MargAdh</th>\n",
              "      <th>SEpith</th>\n",
              "      <th>BareN</th>\n",
              "      <th>BChromatin</th>\n",
              "      <th>NoemN</th>\n",
              "      <th>Mitoses</th>\n",
              "      <th>Class_Malignant</th>\n",
              "    </tr>\n",
              "  </thead>\n",
              "  <tbody>\n",
              "    <tr>\n",
              "      <th>0</th>\n",
              "      <td>61634</td>\n",
              "      <td>5</td>\n",
              "      <td>4</td>\n",
              "      <td>3</td>\n",
              "      <td>1</td>\n",
              "      <td>2</td>\n",
              "      <td>2</td>\n",
              "      <td>2</td>\n",
              "      <td>3</td>\n",
              "      <td>1</td>\n",
              "      <td>0</td>\n",
              "    </tr>\n",
              "    <tr>\n",
              "      <th>1</th>\n",
              "      <td>63375</td>\n",
              "      <td>9</td>\n",
              "      <td>1</td>\n",
              "      <td>2</td>\n",
              "      <td>6</td>\n",
              "      <td>4</td>\n",
              "      <td>10</td>\n",
              "      <td>7</td>\n",
              "      <td>7</td>\n",
              "      <td>2</td>\n",
              "      <td>1</td>\n",
              "    </tr>\n",
              "    <tr>\n",
              "      <th>2</th>\n",
              "      <td>76389</td>\n",
              "      <td>10</td>\n",
              "      <td>4</td>\n",
              "      <td>7</td>\n",
              "      <td>2</td>\n",
              "      <td>2</td>\n",
              "      <td>8</td>\n",
              "      <td>6</td>\n",
              "      <td>1</td>\n",
              "      <td>1</td>\n",
              "      <td>1</td>\n",
              "    </tr>\n",
              "    <tr>\n",
              "      <th>3</th>\n",
              "      <td>95719</td>\n",
              "      <td>6</td>\n",
              "      <td>10</td>\n",
              "      <td>10</td>\n",
              "      <td>10</td>\n",
              "      <td>8</td>\n",
              "      <td>10</td>\n",
              "      <td>7</td>\n",
              "      <td>10</td>\n",
              "      <td>7</td>\n",
              "      <td>1</td>\n",
              "    </tr>\n",
              "    <tr>\n",
              "      <th>4</th>\n",
              "      <td>128059</td>\n",
              "      <td>1</td>\n",
              "      <td>1</td>\n",
              "      <td>1</td>\n",
              "      <td>1</td>\n",
              "      <td>2</td>\n",
              "      <td>5</td>\n",
              "      <td>5</td>\n",
              "      <td>1</td>\n",
              "      <td>1</td>\n",
              "      <td>0</td>\n",
              "    </tr>\n",
              "  </tbody>\n",
              "</table>\n",
              "</div>\n",
              "      <button class=\"colab-df-convert\" onclick=\"convertToInteractive('df-41c93e53-e22f-47a0-a374-d30e757d76dd')\"\n",
              "              title=\"Convert this dataframe to an interactive table.\"\n",
              "              style=\"display:none;\">\n",
              "        \n",
              "  <svg xmlns=\"http://www.w3.org/2000/svg\" height=\"24px\"viewBox=\"0 0 24 24\"\n",
              "       width=\"24px\">\n",
              "    <path d=\"M0 0h24v24H0V0z\" fill=\"none\"/>\n",
              "    <path d=\"M18.56 5.44l.94 2.06.94-2.06 2.06-.94-2.06-.94-.94-2.06-.94 2.06-2.06.94zm-11 1L8.5 8.5l.94-2.06 2.06-.94-2.06-.94L8.5 2.5l-.94 2.06-2.06.94zm10 10l.94 2.06.94-2.06 2.06-.94-2.06-.94-.94-2.06-.94 2.06-2.06.94z\"/><path d=\"M17.41 7.96l-1.37-1.37c-.4-.4-.92-.59-1.43-.59-.52 0-1.04.2-1.43.59L10.3 9.45l-7.72 7.72c-.78.78-.78 2.05 0 2.83L4 21.41c.39.39.9.59 1.41.59.51 0 1.02-.2 1.41-.59l7.78-7.78 2.81-2.81c.8-.78.8-2.07 0-2.86zM5.41 20L4 18.59l7.72-7.72 1.47 1.35L5.41 20z\"/>\n",
              "  </svg>\n",
              "      </button>\n",
              "      \n",
              "  <style>\n",
              "    .colab-df-container {\n",
              "      display:flex;\n",
              "      flex-wrap:wrap;\n",
              "      gap: 12px;\n",
              "    }\n",
              "\n",
              "    .colab-df-convert {\n",
              "      background-color: #E8F0FE;\n",
              "      border: none;\n",
              "      border-radius: 50%;\n",
              "      cursor: pointer;\n",
              "      display: none;\n",
              "      fill: #1967D2;\n",
              "      height: 32px;\n",
              "      padding: 0 0 0 0;\n",
              "      width: 32px;\n",
              "    }\n",
              "\n",
              "    .colab-df-convert:hover {\n",
              "      background-color: #E2EBFA;\n",
              "      box-shadow: 0px 1px 2px rgba(60, 64, 67, 0.3), 0px 1px 3px 1px rgba(60, 64, 67, 0.15);\n",
              "      fill: #174EA6;\n",
              "    }\n",
              "\n",
              "    [theme=dark] .colab-df-convert {\n",
              "      background-color: #3B4455;\n",
              "      fill: #D2E3FC;\n",
              "    }\n",
              "\n",
              "    [theme=dark] .colab-df-convert:hover {\n",
              "      background-color: #434B5C;\n",
              "      box-shadow: 0px 1px 3px 1px rgba(0, 0, 0, 0.15);\n",
              "      filter: drop-shadow(0px 1px 2px rgba(0, 0, 0, 0.3));\n",
              "      fill: #FFFFFF;\n",
              "    }\n",
              "  </style>\n",
              "\n",
              "      <script>\n",
              "        const buttonEl =\n",
              "          document.querySelector('#df-41c93e53-e22f-47a0-a374-d30e757d76dd button.colab-df-convert');\n",
              "        buttonEl.style.display =\n",
              "          google.colab.kernel.accessAllowed ? 'block' : 'none';\n",
              "\n",
              "        async function convertToInteractive(key) {\n",
              "          const element = document.querySelector('#df-41c93e53-e22f-47a0-a374-d30e757d76dd');\n",
              "          const dataTable =\n",
              "            await google.colab.kernel.invokeFunction('convertToInteractive',\n",
              "                                                     [key], {});\n",
              "          if (!dataTable) return;\n",
              "\n",
              "          const docLinkHtml = 'Like what you see? Visit the ' +\n",
              "            '<a target=\"_blank\" href=https://colab.research.google.com/notebooks/data_table.ipynb>data table notebook</a>'\n",
              "            + ' to learn more about interactive tables.';\n",
              "          element.innerHTML = '';\n",
              "          dataTable['output_type'] = 'display_data';\n",
              "          await google.colab.output.renderOutput(dataTable, element);\n",
              "          const docLink = document.createElement('div');\n",
              "          docLink.innerHTML = docLinkHtml;\n",
              "          element.appendChild(docLink);\n",
              "        }\n",
              "      </script>\n",
              "    </div>\n",
              "  </div>\n",
              "  "
            ]
          },
          "metadata": {},
          "execution_count": 4
        }
      ]
    },
    {
      "cell_type": "code",
      "metadata": {
        "id": "EGEz_Td9DtuX"
      },
      "source": [
        "X = dum_cancer.iloc[:,1:-1]\n",
        "\n",
        "scaler = MinMaxScaler()\n",
        "\n",
        "y = dum_cancer.iloc[:,-1].values\n",
        "X_train, X_test, y_train, y_test = train_test_split(X, y, test_size = 0.3, \n",
        "                                                    random_state=42,stratify=y)\n",
        "X_scl_trn = scaler.fit_transform(X_train) \n",
        "X_scl_tst = scaler.transform(X_test) \n"
      ],
      "execution_count": 5,
      "outputs": []
    },
    {
      "cell_type": "code",
      "metadata": {
        "colab": {
          "base_uri": "https://localhost:8080/"
        },
        "id": "VxWSobXXDtuY",
        "outputId": "4332a8d1-f81b-4032-a3a4-6df1268e206b"
      },
      "source": [
        "X_torch = torch.from_numpy(X_scl_trn)\n",
        "y_torch = torch.from_numpy(y_train)\n",
        "print(X_torch.size())\n",
        "print(y_torch.size())"
      ],
      "execution_count": 6,
      "outputs": [
        {
          "output_type": "stream",
          "name": "stdout",
          "text": [
            "torch.Size([489, 9])\n",
            "torch.Size([489])\n"
          ]
        }
      ]
    },
    {
      "cell_type": "code",
      "source": [
        "type(X_torch)"
      ],
      "metadata": {
        "colab": {
          "base_uri": "https://localhost:8080/"
        },
        "id": "PH1DSCQy-EXU",
        "outputId": "8c4856bc-61d5-4902-afca-ca6246931360"
      },
      "execution_count": 7,
      "outputs": [
        {
          "output_type": "execute_result",
          "data": {
            "text/plain": [
              "torch.Tensor"
            ]
          },
          "metadata": {},
          "execution_count": 7
        }
      ]
    },
    {
      "cell_type": "code",
      "metadata": {
        "id": "XM5CLc5DDtua"
      },
      "source": [
        "# Create a model\n",
        "model = nn.Sequential(nn.Linear(in_features=X_scl_trn.shape[1], out_features=5),\n",
        "                      nn.ReLU(),\n",
        "                      nn.Linear(5, 3),\n",
        "                      nn.ReLU(),\n",
        "                      nn.Linear(3,1),\n",
        "                      nn.Sigmoid())"
      ],
      "execution_count": 9,
      "outputs": []
    },
    {
      "cell_type": "code",
      "metadata": {
        "id": "HvVACcd9Dtuc",
        "colab": {
          "base_uri": "https://localhost:8080/"
        },
        "outputId": "9bfffdb8-65e0-4a2f-80f2-4d2a09b45086"
      },
      "source": [
        "criterion = torch.nn.BCELoss()\n",
        "# Construct the optimizer (Adam in this case)\n",
        "optimizer = torch.optim.Adam(model.parameters(), lr = 0.001)\n",
        "optimizer"
      ],
      "execution_count": 10,
      "outputs": [
        {
          "output_type": "execute_result",
          "data": {
            "text/plain": [
              "Adam (\n",
              "Parameter Group 0\n",
              "    amsgrad: False\n",
              "    betas: (0.9, 0.999)\n",
              "    capturable: False\n",
              "    differentiable: False\n",
              "    eps: 1e-08\n",
              "    foreach: None\n",
              "    fused: False\n",
              "    lr: 0.001\n",
              "    maximize: False\n",
              "    weight_decay: 0\n",
              ")"
            ]
          },
          "metadata": {},
          "execution_count": 10
        }
      ]
    },
    {
      "cell_type": "code",
      "metadata": {
        "colab": {
          "base_uri": "https://localhost:8080/"
        },
        "id": "AQuAeAiBDtue",
        "outputId": "de0fd5aa-8b79-4092-d503-e20de3722bd8"
      },
      "source": [
        "y_pred = model(X_torch.float())\n",
        "y_torch = y_torch.unsqueeze(1)\n",
        "print(y_torch.shape)\n",
        "print(y_pred.shape)"
      ],
      "execution_count": 11,
      "outputs": [
        {
          "output_type": "stream",
          "name": "stdout",
          "text": [
            "torch.Size([489, 1])\n",
            "torch.Size([489, 1])\n"
          ]
        }
      ]
    },
    {
      "cell_type": "code",
      "metadata": {
        "id": "ntZuOAASDtug",
        "colab": {
          "base_uri": "https://localhost:8080/"
        },
        "outputId": "b6b83b81-3446-4114-ce86-6dad77549490"
      },
      "source": [
        "# Gradient Descent\n",
        "\n",
        "for epoch in np.arange(0,1000):\n",
        "   # Forward pass: Compute predicted y by passing x to the model\n",
        "   y_pred_prob = model(X_torch.float())\n",
        "\n",
        "   # Compute and print loss\n",
        "   loss = criterion(y_pred_prob, y_torch.float())\n",
        "   print('epoch: ', epoch+1,' loss: ', loss.item())\n",
        "\n",
        "   # Zero gradients, perform a backward pass, and update the weights.\n",
        "   optimizer.zero_grad()\n",
        "\n",
        "   # perform a backward pass (backpropagation)\n",
        "   loss.backward()\n",
        "\n",
        "   # Update the parameters\n",
        "   optimizer.step()\n",
        "#print('epoch: ', epoch+1,' loss: ', loss.item())"
      ],
      "execution_count": 12,
      "outputs": [
        {
          "output_type": "stream",
          "name": "stdout",
          "text": [
            "893  loss:  0.09307719022035599\n",
            "epoch:  894  loss:  0.09304314851760864\n",
            "epoch:  895  loss:  0.09300896525382996\n",
            "epoch:  896  loss:  0.09297468513250351\n",
            "epoch:  897  loss:  0.0929403230547905\n",
            "epoch:  898  loss:  0.09290594607591629\n",
            "epoch:  899  loss:  0.09287156909704208\n",
            "epoch:  900  loss:  0.09283715486526489\n",
            "epoch:  901  loss:  0.09280011802911758\n",
            "epoch:  902  loss:  0.09276249259710312\n",
            "epoch:  903  loss:  0.09272482991218567\n",
            "epoch:  904  loss:  0.0926871970295906\n",
            "epoch:  905  loss:  0.09264948219060898\n",
            "epoch:  906  loss:  0.09261174499988556\n",
            "epoch:  907  loss:  0.09257441759109497\n",
            "epoch:  908  loss:  0.09253815561532974\n",
            "epoch:  909  loss:  0.09250213950872421\n",
            "epoch:  910  loss:  0.09246636182069778\n",
            "epoch:  911  loss:  0.09243080765008926\n",
            "epoch:  912  loss:  0.09239546954631805\n",
            "epoch:  913  loss:  0.09236035495996475\n",
            "epoch:  914  loss:  0.09232544898986816\n",
            "epoch:  915  loss:  0.09229070693254471\n",
            "epoch:  916  loss:  0.09225622564554214\n",
            "epoch:  917  loss:  0.09222307801246643\n",
            "epoch:  918  loss:  0.09219006448984146\n",
            "epoch:  919  loss:  0.09215717762708664\n",
            "epoch:  920  loss:  0.09212438017129898\n",
            "epoch:  921  loss:  0.09209167212247849\n",
            "epoch:  922  loss:  0.09205901622772217\n",
            "epoch:  923  loss:  0.09202641248703003\n",
            "epoch:  924  loss:  0.09199415147304535\n",
            "epoch:  925  loss:  0.09196221083402634\n",
            "epoch:  926  loss:  0.0919303223490715\n",
            "epoch:  927  loss:  0.09189848601818085\n",
            "epoch:  928  loss:  0.09186665713787079\n",
            "epoch:  929  loss:  0.09183505922555923\n",
            "epoch:  930  loss:  0.09180451184511185\n",
            "epoch:  931  loss:  0.09177403151988983\n",
            "epoch:  932  loss:  0.09174361079931259\n",
            "epoch:  933  loss:  0.09171325713396072\n",
            "epoch:  934  loss:  0.09168300032615662\n",
            "epoch:  935  loss:  0.09165286272764206\n",
            "epoch:  936  loss:  0.09162283688783646\n",
            "epoch:  937  loss:  0.0915929451584816\n",
            "epoch:  938  loss:  0.09156321734189987\n",
            "epoch:  939  loss:  0.09153364598751068\n",
            "epoch:  940  loss:  0.09150420874357224\n",
            "epoch:  941  loss:  0.09147494286298752\n",
            "epoch:  942  loss:  0.09144587814807892\n",
            "epoch:  943  loss:  0.09141694754362106\n",
            "epoch:  944  loss:  0.09138818830251694\n",
            "epoch:  945  loss:  0.09135957062244415\n",
            "epoch:  946  loss:  0.09133108705282211\n",
            "epoch:  947  loss:  0.09130273014307022\n",
            "epoch:  948  loss:  0.09127448499202728\n",
            "epoch:  949  loss:  0.0912463366985321\n",
            "epoch:  950  loss:  0.09121831506490707\n",
            "epoch:  951  loss:  0.09119047224521637\n",
            "epoch:  952  loss:  0.0911627933382988\n",
            "epoch:  953  loss:  0.09113524854183197\n",
            "epoch:  954  loss:  0.0911078006029129\n",
            "epoch:  955  loss:  0.091080442070961\n",
            "epoch:  956  loss:  0.09105318784713745\n",
            "epoch:  957  loss:  0.09102603793144226\n",
            "epoch:  958  loss:  0.09099896997213364\n",
            "epoch:  959  loss:  0.09097197651863098\n",
            "epoch:  960  loss:  0.09094510227441788\n",
            "epoch:  961  loss:  0.09091830253601074\n",
            "epoch:  962  loss:  0.09089156985282898\n",
            "epoch:  963  loss:  0.09086491167545319\n",
            "epoch:  964  loss:  0.09083831310272217\n",
            "epoch:  965  loss:  0.09081180393695831\n",
            "epoch:  966  loss:  0.09078534692525864\n",
            "epoch:  967  loss:  0.09075895696878433\n",
            "epoch:  968  loss:  0.0907326266169548\n",
            "epoch:  969  loss:  0.09070634096860886\n",
            "epoch:  970  loss:  0.09068011492490768\n",
            "epoch:  971  loss:  0.09065394848585129\n",
            "epoch:  972  loss:  0.09062780439853668\n",
            "epoch:  973  loss:  0.09060172736644745\n",
            "epoch:  974  loss:  0.0905757024884224\n",
            "epoch:  975  loss:  0.09054970741271973\n",
            "epoch:  976  loss:  0.09052376449108124\n",
            "epoch:  977  loss:  0.09049787372350693\n",
            "epoch:  978  loss:  0.090472012758255\n",
            "epoch:  979  loss:  0.09044621139764786\n",
            "epoch:  980  loss:  0.0904204472899437\n",
            "epoch:  981  loss:  0.09039471298456192\n",
            "epoch:  982  loss:  0.09036903828382492\n",
            "epoch:  983  loss:  0.0903434082865715\n",
            "epoch:  984  loss:  0.09031795710325241\n",
            "epoch:  985  loss:  0.09029287099838257\n",
            "epoch:  986  loss:  0.0902678593993187\n",
            "epoch:  987  loss:  0.0902429148554802\n",
            "epoch:  988  loss:  0.09021801501512527\n",
            "epoch:  989  loss:  0.09019318968057632\n",
            "epoch:  990  loss:  0.09016840904951096\n",
            "epoch:  991  loss:  0.09014371037483215\n",
            "epoch:  992  loss:  0.09011905640363693\n",
            "epoch:  993  loss:  0.09009444713592529\n",
            "epoch:  994  loss:  0.09006988257169724\n",
            "epoch:  995  loss:  0.09004539996385574\n",
            "epoch:  996  loss:  0.09002095460891724\n",
            "epoch:  997  loss:  0.0899965688586235\n",
            "epoch:  998  loss:  0.08997223526239395\n",
            "epoch:  999  loss:  0.08994795382022858\n",
            "epoch:  1000  loss:  0.08992371708154678\n"
          ]
        }
      ]
    },
    {
      "cell_type": "code",
      "metadata": {
        "colab": {
          "base_uri": "https://localhost:8080/"
        },
        "id": "Vfr6de9mDtuj",
        "outputId": "be70a707-e2cd-4939-da7a-373ec767b5b2"
      },
      "source": [
        "X_torch_test = torch.from_numpy(X_scl_tst)\n",
        "y_pred_prob = model(X_torch_test.float()) # Equivalent predict_proba / predict\n",
        "y_pred_prob = y_pred_prob.detach().numpy()\n",
        "y_pred_prob = y_pred_prob.reshape(y_test.shape[0],)\n",
        "y_pred_prob[:5]"
      ],
      "execution_count": 13,
      "outputs": [
        {
          "output_type": "execute_result",
          "data": {
            "text/plain": [
              "array([0.00911858, 0.00730865, 0.00632951, 0.97004086, 0.68660223],\n",
              "      dtype=float32)"
            ]
          },
          "metadata": {},
          "execution_count": 13
        }
      ]
    },
    {
      "cell_type": "code",
      "metadata": {
        "colab": {
          "base_uri": "https://localhost:8080/"
        },
        "id": "NbUKnL7LDtuj",
        "outputId": "7b3d4d2b-4796-4a04-b4d6-6bf9114ca415"
      },
      "source": [
        "y_pred = np.where(y_pred_prob >= 0.5,1,0)\n",
        "\n",
        "y_pred[:5]"
      ],
      "execution_count": 15,
      "outputs": [
        {
          "output_type": "execute_result",
          "data": {
            "text/plain": [
              "array([0, 0, 0, 1, 1])"
            ]
          },
          "metadata": {},
          "execution_count": 15
        }
      ]
    },
    {
      "cell_type": "code",
      "metadata": {
        "id": "z6Xtwll3Dtuk"
      },
      "source": [
        "print(accuracy_score(y_test,y_pred))"
      ],
      "execution_count": null,
      "outputs": []
    }
  ]
}